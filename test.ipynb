{
 "cells": [
  {
   "cell_type": "code",
   "execution_count": null,
   "metadata": {},
   "outputs": [],
   "source": [
    "import pdfplumber\n",
    "\n",
    "with pdfplumber.open(\"Financial Terms.pdf\") as pdf:\n",
    "    first_page = pdf.pages[0]\n",
    "    print(first_page.chars)"
   ]
  },
  {
   "cell_type": "code",
   "execution_count": null,
   "metadata": {},
   "outputs": [],
   "source": [
    "term_report = pdfplumber.open(\"Financial Terms.pdf\").pages\n",
    "fin_term_en_cn = {}\n",
    "for page in term_report:\n",
    "    tmp_page= page.extract_text(x_tolerance=1, y_tolerance=1).split('\\n')\n",
    "    for term in tmp_page:\n",
    "        term = term.split()\n",
    "        if len(term)<2:\n",
    "            print(term)\n",
    "        else:\n",
    "            fin_term_en_cn[term[0]] = ' '.join(term[1:])"
   ]
  },
  {
   "cell_type": "code",
   "execution_count": 30,
   "metadata": {},
   "outputs": [],
   "source": [
    "import json \n",
    "with open('fin_term_cn_2_en.json','w') as f:\n",
    "    json.dump(fin_term_en_cn,f, indent=3)"
   ]
  },
  {
   "cell_type": "code",
   "execution_count": 2,
   "metadata": {},
   "outputs": [],
   "source": [
    "import pdfplumber\n",
    "term_report = pdfplumber.open(\"Q3_BAIDU_2018.pdf\").pages"
   ]
  },
  {
   "cell_type": "code",
   "execution_count": 9,
   "metadata": {},
   "outputs": [
    {
     "data": {
      "text/plain": [
       "[]"
      ]
     },
     "execution_count": 9,
     "metadata": {},
     "output_type": "execute_result"
    }
   ],
   "source": [
    "table_settings = {\n",
    "    \"vertical_strategy\": \"lines\", \n",
    "    \"horizontal_strategy\": \"lines\",\n",
    "    \"explicit_vertical_lines\": [],\n",
    "    \"explicit_horizontal_lines\": [],\n",
    "    \"snap_tolerance\": 3,\n",
    "    \"join_tolerance\": 3,\n",
    "    \"edge_min_length\": 3,\n",
    "    \"min_words_vertical\": 3,\n",
    "    \"min_words_horizontal\": 1,\n",
    "    \"keep_blank_chars\": False,\n",
    "    \"text_tolerance\": 3,\n",
    "    \"text_x_tolerance\": None,\n",
    "    \"text_y_tolerance\": None,\n",
    "    \"intersection_tolerance\": 3,\n",
    "    \"intersection_x_tolerance\": None,\n",
    "    \"intersection_y_tolerance\": None,\n",
    "}\n",
    "term_report[10].find_tables(table_settings)"
   ]
  },
  {
   "cell_type": "code",
   "execution_count": null,
   "metadata": {},
   "outputs": [],
   "source": []
  }
 ],
 "metadata": {
  "kernelspec": {
   "display_name": "Python 3",
   "language": "python",
   "name": "python3"
  },
  "language_info": {
   "codemirror_mode": {
    "name": "ipython",
    "version": 3
   },
   "file_extension": ".py",
   "mimetype": "text/x-python",
   "name": "python",
   "nbconvert_exporter": "python",
   "pygments_lexer": "ipython3",
   "version": "3.6.7"
  }
 },
 "nbformat": 4,
 "nbformat_minor": 2
}
