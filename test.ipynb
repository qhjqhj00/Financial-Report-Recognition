{
 "cells": [
  {
   "cell_type": "code",
   "execution_count": null,
   "metadata": {},
   "outputs": [],
   "source": [
    "import pdfplumber\n",
    "\n",
    "with pdfplumber.open(\"Financial Terms.pdf\") as pdf:\n",
    "    first_page = pdf.pages[0]\n",
    "    print(first_page.chars)"
   ]
  },
  {
   "cell_type": "code",
   "execution_count": null,
   "metadata": {},
   "outputs": [],
   "source": [
    "term_report = pdfplumber.open(\"Financial Terms.pdf\").pages\n",
    "fin_term_en_cn = {}\n",
    "for page in term_report:\n",
    "    tmp_page= page.extract_text(x_tolerance=1, y_tolerance=1).split('\\n')\n",
    "    for term in tmp_page:\n",
    "        term = term.split()\n",
    "        if len(term)<2:\n",
    "            print(term)\n",
    "        else:\n",
    "            fin_term_en_cn[term[0]] = ' '.join(term[1:])"
   ]
  },
  {
   "cell_type": "code",
   "execution_count": 30,
   "metadata": {},
   "outputs": [],
   "source": [
    "import json \n",
    "with open('fin_term_cn_2_en.json','w') as f:\n",
    "    json.dump(fin_term_en_cn,f, indent=3)"
   ]
  },
  {
   "cell_type": "code",
   "execution_count": 1,
   "metadata": {},
   "outputs": [],
   "source": [
    "import pdfplumber\n",
    "term_report = pdfplumber.open(\"Q3_BAIDU_2018.pdf\").pages"
   ]
  },
  {
   "cell_type": "code",
   "execution_count": 43,
   "metadata": {},
   "outputs": [],
   "source": [
    "table_settings = {\n",
    "    \"vertical_strategy\": \"text\", \n",
    "    \"horizontal_strategy\": \"lines\",\n",
    "    \"explicit_vertical_lines\": [],\n",
    "    \"explicit_horizontal_lines\": [],\n",
    "    \"snap_tolerance\": 1,\n",
    "    \"join_tolerance\": 1,\n",
    "    \"edge_min_length\": 3,\n",
    "    \"min_words_vertical\": 3,\n",
    "    \"min_words_horizontal\": 1,\n",
    "    \"keep_blank_chars\": False,\n",
    "    \"text_tolerance\": 1,\n",
    "    \"text_x_tolerance\": None,\n",
    "    \"text_y_tolerance\": None,\n",
    "    \"intersection_tolerance\": 3,\n",
    "    \"intersection_x_tolerance\": None,\n",
    "    \"intersection_y_tolerance\": None,\n",
    "}\n",
    "table = term_report[13].extract_table(table_settings)"
   ]
  },
  {
   "cell_type": "code",
   "execution_count": null,
   "metadata": {},
   "outputs": [],
   "source": [
    "def date_parser(sheet):\n",
    "    month_list = [\n",
    "        'January',\n",
    "        'February',\n",
    "        'March',\n",
    "        'April',\n",
    "        'May',\n",
    "        'June',\n",
    "        'July',\n",
    "        'August',\n",
    "        'September',\n",
    "        'October',\n",
    "        \n",
    "    ]\n",
    "    January - 31 days\n",
    "February - 28 days in a common year and 29 days in leap years\n",
    "March - 31 days\n",
    "April - 30 days\n",
    "May - 31 days\n",
    "June - 30 days\n",
    "July - 31 days\n",
    "August - 31 days\n",
    "September - 30 days\n",
    "October - 31 days\n",
    "November - 30 days\n",
    "December - 31 days"
   ]
  },
  {
   "cell_type": "code",
   "execution_count": 7,
   "metadata": {},
   "outputs": [],
   "source": [
    "balance_sheet = term_report[10].extract_text(x_tolerance=1, y_tolerance=1).split('\\n')"
   ]
  },
  {
   "cell_type": "code",
   "execution_count": 10,
   "metadata": {},
   "outputs": [],
   "source": [
    "for i, line in enumerate(balance_sheet):\n",
    "    line = line.split('  ')\n",
    "    line = [element for element in line if len(element)>1]\n",
    "    balance_sheet[i] = line"
   ]
  },
  {
   "cell_type": "code",
   "execution_count": 12,
   "metadata": {},
   "outputs": [
    {
     "data": {
      "text/plain": [
       "' \\nBaidu, Inc. \\nCondensed Consolidated Balance Sheets \\n      December 31,        September 30,  \\n(In RMB millions except for share information)     2017        2018   \\n      Audited        Unaudited   \\nASSETS                      \\nCurrent assets:                      \\nCash and cash equivalents       11,084      15,775  \\nRestricted cash       252      15  \\nShort-term investments       89,381      88,716  \\nOther invested securities    18,350      -\\nAccounts receivable, net       4,571      5,455  \\nLoans and interest receivable, net  23,938      -\\nAmounts due from related parties       168      23,321  \\nOther assets, current       3,425      6,700  \\nTotal current assets       151,169      139,982  \\n                   \\nNon-current assets:                  \\nFixed assets, net       12,475      16,197  \\nIntangible assets, net       5,467      8,732  \\nGoodwill       15,806      17,051  \\nLong-term investments, net       56,283      80,589  \\nLoans and interest receivable, net    3,467      -\\nAmounts due from related parties       9      1,994  \\nDeferred tax assets, net       1,532      1,049\\nOther assets, non-current       5,520      9,742  \\nTotal non-current assets       100,559      135,354  \\n                   \\nTotal assets     251,728      275,336  \\n                   \\nLIABILITIES AND EQUITY                  \\nCurrent liabilities:                  \\nShort-term loans       1,244      1,173  \\nAmounts due to the third-party investors    38,486      -\\nAccounts payable and accrued liabilities       27,523      33,743  \\nCustomer advances and deposits       6,785      7,599  \\nDeferred revenue       788      1,840  \\nDeferred income       568      519  \\nLong-term loans, current portion       10      10  \\nNotes payable, current portion    6,500      6,856\\nAmounts due to related parties       153      873  \\nTotal current liabilities       82,057      52,613  \\n                   \\nNon-current liabilities:                  \\nDeferred income       73      50  \\nDeferred revenue    -      1,431\\nAmounts due to related parties    -      3,008\\nLong-term loans       6,701      7,069  \\nNotes payable       29,111       34,142  \\nDeferred tax liabilities       3,375      3,989  \\nOther non-current liabilities       39      190  \\nTotal non-current liabilities       39,299      49,879  \\n                   \\nTotal liabilities       121,356      102,492  \\n                   \\n   '"
      ]
     },
     "execution_count": 12,
     "metadata": {},
     "output_type": "execute_result"
    }
   ],
   "source": [
    "term_report[10].extract_text(x_tolerance=1, y_tolerance=1)"
   ]
  },
  {
   "cell_type": "code",
   "execution_count": null,
   "metadata": {},
   "outputs": [],
   "source": []
  }
 ],
 "metadata": {
  "kernelspec": {
   "display_name": "Python 3",
   "language": "python",
   "name": "python3"
  },
  "language_info": {
   "codemirror_mode": {
    "name": "ipython",
    "version": 3
   },
   "file_extension": ".py",
   "mimetype": "text/x-python",
   "name": "python",
   "nbconvert_exporter": "python",
   "pygments_lexer": "ipython3",
   "version": "3.6.7"
  }
 },
 "nbformat": 4,
 "nbformat_minor": 2
}
