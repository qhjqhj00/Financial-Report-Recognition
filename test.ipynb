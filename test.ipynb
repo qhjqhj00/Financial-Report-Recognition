{
 "cells": [
  {
   "cell_type": "code",
   "execution_count": null,
   "metadata": {},
   "outputs": [],
   "source": [
    "import pdfplumber\n",
    "\n",
    "with pdfplumber.open(\"Financial Terms.pdf\") as pdf:\n",
    "    first_page = pdf.pages[0]\n",
    "    print(first_page.chars)"
   ]
  },
  {
   "cell_type": "code",
   "execution_count": null,
   "metadata": {},
   "outputs": [],
   "source": [
    "term_report = pdfplumber.open(\"Financial Terms.pdf\").pages\n",
    "fin_term_en_cn = {}\n",
    "for page in term_report:\n",
    "    tmp_page= page.extract_text(x_tolerance=1, y_tolerance=1).split('\\n')\n",
    "    for term in tmp_page:\n",
    "        term = term.split()\n",
    "        if len(term)<2:\n",
    "            print(term)\n",
    "        else:\n",
    "            fin_term_en_cn[term[0]] = ' '.join(term[1:])"
   ]
  },
  {
   "cell_type": "code",
   "execution_count": 30,
   "metadata": {},
   "outputs": [],
   "source": [
    "import json \n",
    "with open('fin_term_cn_2_en.json','w') as f:\n",
    "    json.dump(fin_term_en_cn,f, indent=3)"
   ]
  },
  {
   "cell_type": "code",
   "execution_count": 1,
   "metadata": {},
   "outputs": [],
   "source": [
    "import pdfplumber\n",
    "term_report = pdfplumber.open(\"Q3_BAIDU_2018.pdf\").pages"
   ]
  },
  {
   "cell_type": "code",
   "execution_count": 51,
   "metadata": {},
   "outputs": [],
   "source": [
    "import re\n",
    "def date_parser(text):\n",
    "    month_list = [\n",
    "        'January',\n",
    "        'February',\n",
    "        'March',\n",
    "        'April',\n",
    "        'May',\n",
    "        'June',\n",
    "        'July',\n",
    "        'August',\n",
    "        'September',\n",
    "        'October',\n",
    "        'November',\n",
    "        'December'\n",
    "    ]\n",
    "    month_res = re.findall('|'.join([month+' \\d{1,2}' for month in month_list]), text)\n",
    "    year_res = re.findall('19\\d{2}|20\\d{2}',text)\n",
    "    if len(month_res) > len(year_res):\n",
    "        year_res.extend(year_res[-1]*(len(month_res)-len(year_res)))\n",
    "    res = [', '.join([m, y]) for m,y in zip(month_res, year_res)]\n",
    "    return res\n"
   ]
  },
  {
   "cell_type": "code",
   "execution_count": 82,
   "metadata": {},
   "outputs": [],
   "source": [
    "def balance_sheet(page):\n",
    "    text = page.extract_text(x_tolerance=1, y_tolerance=1)\n",
    "    data_list = date_parser(text)\n",
    "    text_list = text.split('\\n')\n",
    "    for i, line in enumerate(text_list):\n",
    "        line = line.split('  ')\n",
    "        line = [element for element in line if len(element)>1]\n",
    "        text_list[i] = line\n",
    "    print(text_list)\n",
    "    res = {}\n",
    "    scope = None\n",
    "    sub_scope = None\n",
    "    \n",
    "    propertie = ['assets', 'liabilities', 'equity']\n",
    "    state = ['current', 'non-current']\n",
    "    is_total = 'total' \n",
    "    trigger_words = ['assets', 'liabilities and equity']\n",
    "    \n",
    "    for line in text_list:\n",
    "        if len(line) == 1 and line[0].lower() in trigger_words:\n",
    "            scope = line[0]\n",
    "            res[scope] = {}\n",
    "        elif scope and len(line) == 1:\n",
    "            line[0] = line[0].replace(':','')\n",
    "            line_list = line[0].split()\n",
    "            print(line_list)\n",
    "            if line_list[0].lower() in state and line_list[1].lower() in propertie:\n",
    "                sub_scope = line[0]\n",
    "                res[scope][sub_scope] = {}\n",
    "        elif scope and sub_scope:\n",
    "            print(line)\n",
    "            print(scope)\n",
    "            print(sub_scope)\n",
    "            if len(data_list) > len(line) - 1:\n",
    "                line.extend([0]*(len(data_list)-len(line) + 1))\n",
    "            first_word_list = line[0].split()\n",
    "            if first_word_list[0].lower() == is_total and first_word_list[1].lower() in state:\n",
    "                sub_scope = None\n",
    "                \n",
    "            res[scope][sub_scope][line[0]] = {date:num for date, num in zip(data_list,line[1:])}\n",
    "            \n",
    "    return res"
   ]
  },
  {
   "cell_type": "code",
   "execution_count": 83,
   "metadata": {},
   "outputs": [
    {
     "name": "stdout",
     "output_type": "stream",
     "text": [
      "[[], ['Baidu, Inc. '], ['Condensed Consolidated Balance Sheets '], ['December 31,', 'September 30,'], ['(In RMB millions except for share information)', ' 2017', '2018'], ['Audited', 'Unaudited'], ['ASSETS'], ['Current assets:'], ['Cash and cash equivalents', ' 11,084', '15,775'], ['Restricted cash', ' 252', '15'], ['Short-term investments', ' 89,381', '88,716'], ['Other invested securities', '18,350'], ['Accounts receivable, net', ' 4,571', '5,455'], ['Loans and interest receivable, net', '23,938'], ['Amounts due from related parties', ' 168', '23,321'], ['Other assets, current', ' 3,425', '6,700'], ['Total current assets', ' 151,169', '139,982'], [], ['Non-current assets:'], ['Fixed assets, net', ' 12,475', '16,197'], ['Intangible assets, net', ' 5,467', '8,732'], ['Goodwill', ' 15,806', '17,051'], ['Long-term investments, net', ' 56,283', '80,589'], ['Loans and interest receivable, net', '3,467'], ['Amounts due from related parties', ' 9', '1,994'], ['Deferred tax assets, net', ' 1,532', '1,049'], ['Other assets, non-current', ' 5,520', '9,742'], ['Total non-current assets', ' 100,559', '135,354'], [], ['Total assets', ' 251,728', '275,336'], [], ['LIABILITIES AND EQUITY'], ['Current liabilities:'], ['Short-term loans', ' 1,244', '1,173'], ['Amounts due to the third-party investors', '38,486'], ['Accounts payable and accrued liabilities', ' 27,523', '33,743'], ['Customer advances and deposits', ' 6,785', '7,599'], ['Deferred revenue', ' 788', '1,840'], ['Deferred income', ' 568', '519'], ['Long-term loans, current portion', ' 10', '10'], ['Notes payable, current portion', '6,500', '6,856'], ['Amounts due to related parties', ' 153', '873'], ['Total current liabilities', ' 82,057', '52,613'], [], ['Non-current liabilities:'], ['Deferred income', ' 73', '50'], ['Deferred revenue', '1,431'], ['Amounts due to related parties', '3,008'], ['Long-term loans', ' 6,701', '7,069'], ['Notes payable', ' 29,111', ' 34,142'], ['Deferred tax liabilities', ' 3,375', '3,989'], ['Other non-current liabilities', ' 39', '190'], ['Total non-current liabilities', ' 39,299', '49,879'], [], ['Total liabilities', ' 121,356', '102,492'], [], []]\n",
      "['Current', 'assets']\n",
      "['Cash and cash equivalents', ' 11,084', '15,775']\n",
      "ASSETS\n",
      "Current assets\n",
      "['Restricted cash', ' 252', '15']\n",
      "ASSETS\n",
      "Current assets\n",
      "['Short-term investments', ' 89,381', '88,716']\n",
      "ASSETS\n",
      "Current assets\n",
      "['Other invested securities', '18,350']\n",
      "ASSETS\n",
      "Current assets\n",
      "['Accounts receivable, net', ' 4,571', '5,455']\n",
      "ASSETS\n",
      "Current assets\n",
      "['Loans and interest receivable, net', '23,938']\n",
      "ASSETS\n",
      "Current assets\n",
      "['Amounts due from related parties', ' 168', '23,321']\n",
      "ASSETS\n",
      "Current assets\n",
      "['Other assets, current', ' 3,425', '6,700']\n",
      "ASSETS\n",
      "Current assets\n",
      "['Total current assets', ' 151,169', '139,982']\n",
      "ASSETS\n",
      "Current assets\n"
     ]
    },
    {
     "ename": "KeyError",
     "evalue": "None",
     "output_type": "error",
     "traceback": [
      "\u001b[0;31m---------------------------------------------------------------------------\u001b[0m",
      "\u001b[0;31mKeyError\u001b[0m                                  Traceback (most recent call last)",
      "\u001b[0;32m<ipython-input-83-3d7f4891820b>\u001b[0m in \u001b[0;36m<module>\u001b[0;34m\u001b[0m\n\u001b[0;32m----> 1\u001b[0;31m \u001b[0mbalance_sheet\u001b[0m\u001b[0;34m(\u001b[0m\u001b[0mterm_report\u001b[0m\u001b[0;34m[\u001b[0m\u001b[0;36m10\u001b[0m\u001b[0;34m]\u001b[0m\u001b[0;34m)\u001b[0m\u001b[0;34m\u001b[0m\u001b[0;34m\u001b[0m\u001b[0m\n\u001b[0m",
      "\u001b[0;32m<ipython-input-82-472f0b49248c>\u001b[0m in \u001b[0;36mbalance_sheet\u001b[0;34m(page)\u001b[0m\n\u001b[1;32m     37\u001b[0m             \u001b[0;32mif\u001b[0m \u001b[0mfirst_word_list\u001b[0m\u001b[0;34m[\u001b[0m\u001b[0;36m0\u001b[0m\u001b[0;34m]\u001b[0m\u001b[0;34m.\u001b[0m\u001b[0mlower\u001b[0m\u001b[0;34m(\u001b[0m\u001b[0;34m)\u001b[0m \u001b[0;34m==\u001b[0m \u001b[0mis_total\u001b[0m \u001b[0;32mand\u001b[0m \u001b[0mfirst_word_list\u001b[0m\u001b[0;34m[\u001b[0m\u001b[0;36m1\u001b[0m\u001b[0;34m]\u001b[0m\u001b[0;34m.\u001b[0m\u001b[0mlower\u001b[0m\u001b[0;34m(\u001b[0m\u001b[0;34m)\u001b[0m \u001b[0;32min\u001b[0m \u001b[0mstate\u001b[0m\u001b[0;34m:\u001b[0m\u001b[0;34m\u001b[0m\u001b[0;34m\u001b[0m\u001b[0m\n\u001b[1;32m     38\u001b[0m                 \u001b[0msub_scope\u001b[0m \u001b[0;34m=\u001b[0m \u001b[0;32mNone\u001b[0m\u001b[0;34m\u001b[0m\u001b[0;34m\u001b[0m\u001b[0m\n\u001b[0;32m---> 39\u001b[0;31m             \u001b[0mres\u001b[0m\u001b[0;34m[\u001b[0m\u001b[0mscope\u001b[0m\u001b[0;34m]\u001b[0m\u001b[0;34m[\u001b[0m\u001b[0msub_scope\u001b[0m\u001b[0;34m]\u001b[0m\u001b[0;34m[\u001b[0m\u001b[0mline\u001b[0m\u001b[0;34m[\u001b[0m\u001b[0;36m0\u001b[0m\u001b[0;34m]\u001b[0m\u001b[0;34m]\u001b[0m \u001b[0;34m=\u001b[0m \u001b[0;34m{\u001b[0m\u001b[0mdate\u001b[0m\u001b[0;34m:\u001b[0m\u001b[0mnum\u001b[0m \u001b[0;32mfor\u001b[0m \u001b[0mdate\u001b[0m\u001b[0;34m,\u001b[0m \u001b[0mnum\u001b[0m \u001b[0;32min\u001b[0m \u001b[0mzip\u001b[0m\u001b[0;34m(\u001b[0m\u001b[0mdata_list\u001b[0m\u001b[0;34m,\u001b[0m\u001b[0mline\u001b[0m\u001b[0;34m[\u001b[0m\u001b[0;36m1\u001b[0m\u001b[0;34m:\u001b[0m\u001b[0;34m]\u001b[0m\u001b[0;34m)\u001b[0m\u001b[0;34m}\u001b[0m\u001b[0;34m\u001b[0m\u001b[0;34m\u001b[0m\u001b[0m\n\u001b[0m\u001b[1;32m     40\u001b[0m \u001b[0;34m\u001b[0m\u001b[0m\n\u001b[1;32m     41\u001b[0m     \u001b[0;32mreturn\u001b[0m \u001b[0mres\u001b[0m\u001b[0;34m\u001b[0m\u001b[0;34m\u001b[0m\u001b[0m\n",
      "\u001b[0;31mKeyError\u001b[0m: None"
     ]
    }
   ],
   "source": [
    "balance_sheet(term_report[10])"
   ]
  },
  {
   "cell_type": "code",
   "execution_count": null,
   "metadata": {},
   "outputs": [],
   "source": []
  }
 ],
 "metadata": {
  "kernelspec": {
   "display_name": "Python 3",
   "language": "python",
   "name": "python3"
  },
  "language_info": {
   "codemirror_mode": {
    "name": "ipython",
    "version": 3
   },
   "file_extension": ".py",
   "mimetype": "text/x-python",
   "name": "python",
   "nbconvert_exporter": "python",
   "pygments_lexer": "ipython3",
   "version": "3.6.7"
  }
 },
 "nbformat": 4,
 "nbformat_minor": 2
}
