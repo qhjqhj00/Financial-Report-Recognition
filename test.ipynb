{
 "cells": [
  {
   "cell_type": "code",
   "execution_count": null,
   "metadata": {},
   "outputs": [],
   "source": [
    "import pdfplumber\n",
    "\n",
    "with pdfplumber.open(\"Financial Terms.pdf\") as pdf:\n",
    "    first_page = pdf.pages[0]\n",
    "    print(first_page.chars)"
   ]
  },
  {
   "cell_type": "code",
   "execution_count": null,
   "metadata": {},
   "outputs": [],
   "source": [
    "term_report = pdfplumber.open(\"Financial Terms.pdf\").pages\n",
    "fin_term_en_cn = {}\n",
    "for page in term_report:\n",
    "    tmp_page= page.extract_text(x_tolerance=1, y_tolerance=1).split('\\n')\n",
    "    for term in tmp_page:\n",
    "        term = term.split()\n",
    "        if len(term)<2:\n",
    "            print(term)\n",
    "        else:\n",
    "            fin_term_en_cn[term[0]] = ' '.join(term[1:])"
   ]
  },
  {
   "cell_type": "code",
   "execution_count": 30,
   "metadata": {},
   "outputs": [],
   "source": [
    "import json \n",
    "with open('fin_term_cn_2_en.json','w') as f:\n",
    "    json.dump(fin_term_en_cn,f, indent=3)"
   ]
  },
  {
   "cell_type": "code",
   "execution_count": 1,
   "metadata": {},
   "outputs": [],
   "source": [
    "import pdfplumber\n",
    "term_report = pdfplumber.open(\"Q3_BAIDU_2018.pdf\").pages"
   ]
  },
  {
   "cell_type": "code",
   "execution_count": 51,
   "metadata": {},
   "outputs": [],
   "source": [
    "import re\n",
    "def date_parser(text):\n",
    "    month_list = [\n",
    "        'January',\n",
    "        'February',\n",
    "        'March',\n",
    "        'April',\n",
    "        'May',\n",
    "        'June',\n",
    "        'July',\n",
    "        'August',\n",
    "        'September',\n",
    "        'October',\n",
    "        'November',\n",
    "        'December'\n",
    "    ]\n",
    "    month_res = re.findall('|'.join([month+' \\d{1,2}' for month in month_list]), text)\n",
    "    year_res = re.findall('19\\d{2}|20\\d{2}',text)\n",
    "    if len(month_res) > len(year_res):\n",
    "        year_res.extend(year_res[-1]*(len(month_res)-len(year_res)))\n",
    "    res = [', '.join([m, y]) for m,y in zip(month_res, year_res)]\n",
    "    return res\n"
   ]
  },
  {
   "cell_type": "code",
   "execution_count": 103,
   "metadata": {},
   "outputs": [],
   "source": [
    "def balance_sheet(page):\n",
    "    text = page.extract_text(x_tolerance=1, y_tolerance=1)\n",
    "    data_list = date_parser(text)\n",
    "    text_list = text.split('\\n')\n",
    "    for i, line in enumerate(text_list):\n",
    "        line = line.split('  ')\n",
    "        line = [element for element in line if len(element)>1]\n",
    "        text_list[i] = line\n",
    "    res = {}\n",
    "    scope = None\n",
    "    sub_scope = None\n",
    "    \n",
    "    propertie = ['assets', 'liabilities', 'equity']\n",
    "    state = ['current', 'non-current']\n",
    "    is_total = 'total' \n",
    "    trigger_words = ['assets', 'liabilities and equity']\n",
    "    \n",
    "    for line in text_list:\n",
    "        if len(line) == 1 and line[0].lower() in trigger_words:\n",
    "            scope = line[0]\n",
    "            res[scope] = {}\n",
    "        elif scope and len(line) == 1:\n",
    "            line[0] = line[0].replace(':','')\n",
    "            line_list = line[0].split()\n",
    "            if line_list[0].lower() in state and line_list[1].lower() in propertie:\n",
    "                sub_scope = line[0]\n",
    "                res[scope][sub_scope] = {}\n",
    "        elif scope and sub_scope:\n",
    "            if len(data_list) > len(line) - 1:\n",
    "                line.extend(['-']*(len(data_list)-len(line) + 1))\n",
    "            first_word_list = line[0].split()\n",
    "            res[scope][sub_scope][line[0]] = {date:num_processor(num) for date, num in zip(data_list,line[1:])}\n",
    "            if first_word_list[0].lower() == is_total and first_word_list[1].lower() in state:\n",
    "                sub_scope = None  \n",
    "        elif scope and not sub_scope and len(line)>0:\n",
    "            res[scope][line[0]] = {date:num_processor(num) for date, num in zip(data_list,line[1:])}\n",
    "            \n",
    "    return res\n",
    "\n",
    "def num_processor(num):\n",
    "    num = re.sub(' |,','',num)\n",
    "    try:\n",
    "        return int(num)\n",
    "    except:\n",
    "        return num"
   ]
  },
  {
   "cell_type": "code",
   "execution_count": 104,
   "metadata": {},
   "outputs": [
    {
     "data": {
      "text/plain": [
       "{'Current liabilities': {'Short-term loans': {'December 31, 2017': ' 1,244',\n",
       "   'September 30, 2018': '1,173'},\n",
       "  'Amounts due to the third-party investors': {'December 31, 2017': '38,486',\n",
       "   'September 30, 2018': 0},\n",
       "  'Accounts payable and accrued liabilities': {'December 31, 2017': ' 27,523',\n",
       "   'September 30, 2018': '33,743'},\n",
       "  'Customer advances and deposits': {'December 31, 2017': ' 6,785',\n",
       "   'September 30, 2018': '7,599'},\n",
       "  'Deferred revenue': {'December 31, 2017': ' 788',\n",
       "   'September 30, 2018': '1,840'},\n",
       "  'Deferred income': {'December 31, 2017': ' 568',\n",
       "   'September 30, 2018': '519'},\n",
       "  'Long-term loans, current portion': {'December 31, 2017': ' 10',\n",
       "   'September 30, 2018': '10'},\n",
       "  'Notes payable, current portion': {'December 31, 2017': '6,500',\n",
       "   'September 30, 2018': '6,856'},\n",
       "  'Amounts due to related parties': {'December 31, 2017': ' 153',\n",
       "   'September 30, 2018': '873'},\n",
       "  'Total current liabilities': {'December 31, 2017': ' 82,057',\n",
       "   'September 30, 2018': '52,613'}},\n",
       " 'Non-current liabilities': {'Deferred income': {'December 31, 2017': ' 73',\n",
       "   'September 30, 2018': '50'},\n",
       "  'Deferred revenue': {'December 31, 2017': '1,431', 'September 30, 2018': 0},\n",
       "  'Amounts due to related parties': {'December 31, 2017': '3,008',\n",
       "   'September 30, 2018': 0},\n",
       "  'Long-term loans': {'December 31, 2017': ' 6,701',\n",
       "   'September 30, 2018': '7,069'},\n",
       "  'Notes payable': {'December 31, 2017': ' 29,111',\n",
       "   'September 30, 2018': ' 34,142'},\n",
       "  'Deferred tax liabilities': {'December 31, 2017': ' 3,375',\n",
       "   'September 30, 2018': '3,989'},\n",
       "  'Other non-current liabilities': {'December 31, 2017': ' 39',\n",
       "   'September 30, 2018': '190'},\n",
       "  'Total non-current liabilities': {'December 31, 2017': ' 39,299',\n",
       "   'September 30, 2018': '49,879'}},\n",
       " 'Total liabilities': {'December 31, 2017': ' 121,356',\n",
       "  'September 30, 2018': '102,492'}}"
      ]
     },
     "execution_count": 104,
     "metadata": {},
     "output_type": "execute_result"
    }
   ],
   "source": [
    "balance_sheet(page)"
   ]
  },
  {
   "cell_type": "code",
   "execution_count": null,
   "metadata": {},
   "outputs": [],
   "source": []
  }
 ],
 "metadata": {
  "kernelspec": {
   "display_name": "Python 3",
   "language": "python",
   "name": "python3"
  },
  "language_info": {
   "codemirror_mode": {
    "name": "ipython",
    "version": 3
   },
   "file_extension": ".py",
   "mimetype": "text/x-python",
   "name": "python",
   "nbconvert_exporter": "python",
   "pygments_lexer": "ipython3",
   "version": "3.6.7"
  }
 },
 "nbformat": 4,
 "nbformat_minor": 2
}
