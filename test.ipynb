{
 "cells": [
  {
   "cell_type": "code",
   "execution_count": null,
   "metadata": {},
   "outputs": [],
   "source": [
    "import pdfplumber\n",
    "\n",
    "with pdfplumber.open(\"Financial Terms.pdf\") as pdf:\n",
    "    first_page = pdf.pages[0]\n",
    "    print(first_page.chars)"
   ]
  },
  {
   "cell_type": "code",
   "execution_count": null,
   "metadata": {},
   "outputs": [],
   "source": [
    "term_report = pdfplumber.open(\"Financial Terms.pdf\").pages\n",
    "fin_term_en_cn = {}\n",
    "for page in term_report:\n",
    "    tmp_page= page.extract_text(x_tolerance=1, y_tolerance=1).split('\\n')\n",
    "    for term in tmp_page:\n",
    "        term = term.split()\n",
    "        if len(term)<2:\n",
    "            print(term)\n",
    "        else:\n",
    "            fin_term_en_cn[term[0]] = ' '.join(term[1:])"
   ]
  },
  {
   "cell_type": "code",
   "execution_count": 30,
   "metadata": {},
   "outputs": [],
   "source": [
    "import json \n",
    "with open('fin_term_cn_2_en.json','w') as f:\n",
    "    json.dump(fin_term_en_cn,f, indent=3)"
   ]
  },
  {
   "cell_type": "code",
   "execution_count": 1,
   "metadata": {},
   "outputs": [],
   "source": [
    "import pdfplumber\n",
    "term_report = pdfplumber.open(\"Q3_BAIDU_2018.pdf\").pages"
   ]
  },
  {
   "cell_type": "code",
   "execution_count": 51,
   "metadata": {},
   "outputs": [],
   "source": [
    "import re\n",
    "def date_parser(text):\n",
    "    month_list = [\n",
    "        'January',\n",
    "        'February',\n",
    "        'March',\n",
    "        'April',\n",
    "        'May',\n",
    "        'June',\n",
    "        'July',\n",
    "        'August',\n",
    "        'September',\n",
    "        'October',\n",
    "        'November',\n",
    "        'December'\n",
    "    ]\n",
    "    month_res = re.findall('|'.join([month+' \\d{1,2}' for month in month_list]), text)\n",
    "    year_res = re.findall('19\\d{2}|20\\d{2}',text)\n",
    "    if len(month_res) > len(year_res):\n",
    "        year_res.extend(year_res[-1]*(len(month_res)-len(year_res)))\n",
    "    res = [', '.join([m, y]) for m,y in zip(month_res, year_res)]\n",
    "    return res"
   ]
  },
  {
   "cell_type": "code",
   "execution_count": 103,
   "metadata": {},
   "outputs": [],
   "source": [
    "def balance_sheet(page):\n",
    "    text = page.extract_text(x_tolerance=1, y_tolerance=1)\n",
    "    data_list = date_parser(text)\n",
    "    text_list = text.split('\\n')\n",
    "    for i, line in enumerate(text_list):\n",
    "        line = line.split('  ')\n",
    "        line = [element for element in line if len(element)>1]\n",
    "        text_list[i] = line\n",
    "    res = {}\n",
    "    scope = None\n",
    "    sub_scope = None\n",
    "    \n",
    "    propertie = ['assets', 'liabilities', 'equity']\n",
    "    state = ['current', 'non-current']\n",
    "    is_total = 'total' \n",
    "    trigger_words = ['assets', 'liabilities and equity']\n",
    "    \n",
    "    for line in text_list:\n",
    "        if len(line) == 1 and line[0].lower() in trigger_words:\n",
    "            scope = line[0]\n",
    "            res[scope] = {}\n",
    "        elif scope and len(line) == 1:\n",
    "            line[0] = line[0].replace(':','')\n",
    "            line_list = line[0].split()\n",
    "            if line_list[0].lower() in state and line_list[1].lower() in propertie:\n",
    "                sub_scope = line[0]\n",
    "                res[scope][sub_scope] = {}\n",
    "        elif scope and sub_scope:\n",
    "            if len(data_list) > len(line) - 1:\n",
    "                line.extend(['-']*(len(data_list)-len(line) + 1))\n",
    "            first_word_list = line[0].split()\n",
    "            res[scope][sub_scope][line[0]] = {date:num_processor(num) for date, num in zip(data_list,line[1:])}\n",
    "            if first_word_list[0].lower() == is_total and first_word_list[1].lower() in state:\n",
    "                sub_scope = None  \n",
    "        elif scope and not sub_scope and len(line)>0:\n",
    "            res[scope][line[0]] = {date:num_processor(num) for date, num in zip(data_list,line[1:])}\n",
    "            \n",
    "    return res\n",
    "\n",
    "def num_processor(num):\n",
    "    num = re.sub(' |,','',num)\n",
    "    try:\n",
    "        return int(num)\n",
    "    except:\n",
    "        return num"
   ]
  },
  {
   "cell_type": "code",
   "execution_count": 105,
   "metadata": {},
   "outputs": [
    {
     "data": {
      "text/plain": [
       "{'ASSETS': {'Current assets': {'Cash and cash equivalents': {'December 31, 2017': 11084,\n",
       "    'September 30, 2018': 15775},\n",
       "   'Restricted cash': {'December 31, 2017': 252, 'September 30, 2018': 15},\n",
       "   'Short-term investments': {'December 31, 2017': 89381,\n",
       "    'September 30, 2018': 88716},\n",
       "   'Other invested securities': {'December 31, 2017': 18350,\n",
       "    'September 30, 2018': '-'},\n",
       "   'Accounts receivable, net': {'December 31, 2017': 4571,\n",
       "    'September 30, 2018': 5455},\n",
       "   'Loans and interest receivable, net': {'December 31, 2017': 23938,\n",
       "    'September 30, 2018': '-'},\n",
       "   'Amounts due from related parties': {'December 31, 2017': 168,\n",
       "    'September 30, 2018': 23321},\n",
       "   'Other assets, current': {'December 31, 2017': 3425,\n",
       "    'September 30, 2018': 6700},\n",
       "   'Total current assets': {'December 31, 2017': 151169,\n",
       "    'September 30, 2018': 139982}},\n",
       "  'Non-current assets': {'Fixed assets, net': {'December 31, 2017': 12475,\n",
       "    'September 30, 2018': 16197},\n",
       "   'Intangible assets, net': {'December 31, 2017': 5467,\n",
       "    'September 30, 2018': 8732},\n",
       "   'Goodwill': {'December 31, 2017': 15806, 'September 30, 2018': 17051},\n",
       "   'Long-term investments, net': {'December 31, 2017': 56283,\n",
       "    'September 30, 2018': 80589},\n",
       "   'Loans and interest receivable, net': {'December 31, 2017': 3467,\n",
       "    'September 30, 2018': '-'},\n",
       "   'Amounts due from related parties': {'December 31, 2017': 9,\n",
       "    'September 30, 2018': 1994},\n",
       "   'Deferred tax assets, net': {'December 31, 2017': 1532,\n",
       "    'September 30, 2018': 1049},\n",
       "   'Other assets, non-current': {'December 31, 2017': 5520,\n",
       "    'September 30, 2018': 9742},\n",
       "   'Total non-current assets': {'December 31, 2017': 100559,\n",
       "    'September 30, 2018': 135354}},\n",
       "  'Total assets': {'December 31, 2017': 251728, 'September 30, 2018': 275336}},\n",
       " 'LIABILITIES AND EQUITY': {'Current liabilities': {'Short-term loans': {'December 31, 2017': 1244,\n",
       "    'September 30, 2018': 1173},\n",
       "   'Amounts due to the third-party investors': {'December 31, 2017': 38486,\n",
       "    'September 30, 2018': '-'},\n",
       "   'Accounts payable and accrued liabilities': {'December 31, 2017': 27523,\n",
       "    'September 30, 2018': 33743},\n",
       "   'Customer advances and deposits': {'December 31, 2017': 6785,\n",
       "    'September 30, 2018': 7599},\n",
       "   'Deferred revenue': {'December 31, 2017': 788, 'September 30, 2018': 1840},\n",
       "   'Deferred income': {'December 31, 2017': 568, 'September 30, 2018': 519},\n",
       "   'Long-term loans, current portion': {'December 31, 2017': 10,\n",
       "    'September 30, 2018': 10},\n",
       "   'Notes payable, current portion': {'December 31, 2017': 6500,\n",
       "    'September 30, 2018': 6856},\n",
       "   'Amounts due to related parties': {'December 31, 2017': 153,\n",
       "    'September 30, 2018': 873},\n",
       "   'Total current liabilities': {'December 31, 2017': 82057,\n",
       "    'September 30, 2018': 52613}},\n",
       "  'Non-current liabilities': {'Deferred income': {'December 31, 2017': 73,\n",
       "    'September 30, 2018': 50},\n",
       "   'Deferred revenue': {'December 31, 2017': 1431, 'September 30, 2018': '-'},\n",
       "   'Amounts due to related parties': {'December 31, 2017': 3008,\n",
       "    'September 30, 2018': '-'},\n",
       "   'Long-term loans': {'December 31, 2017': 6701, 'September 30, 2018': 7069},\n",
       "   'Notes payable': {'December 31, 2017': 29111, 'September 30, 2018': 34142},\n",
       "   'Deferred tax liabilities': {'December 31, 2017': 3375,\n",
       "    'September 30, 2018': 3989},\n",
       "   'Other non-current liabilities': {'December 31, 2017': 39,\n",
       "    'September 30, 2018': 190},\n",
       "   'Total non-current liabilities': {'December 31, 2017': 39299,\n",
       "    'September 30, 2018': 49879}},\n",
       "  'Total liabilities': {'December 31, 2017': 121356,\n",
       "   'September 30, 2018': 102492}}}"
      ]
     },
     "execution_count": 105,
     "metadata": {},
     "output_type": "execute_result"
    }
   ],
   "source": [
    "balance_sheet(term_report[10])"
   ]
  },
  {
   "cell_type": "code",
   "execution_count": null,
   "metadata": {},
   "outputs": [],
   "source": []
  }
 ],
 "metadata": {
  "kernelspec": {
   "display_name": "Python 3",
   "language": "python",
   "name": "python3"
  },
  "language_info": {
   "codemirror_mode": {
    "name": "ipython",
    "version": 3
   },
   "file_extension": ".py",
   "mimetype": "text/x-python",
   "name": "python",
   "nbconvert_exporter": "python",
   "pygments_lexer": "ipython3",
   "version": "3.6.7"
  }
 },
 "nbformat": 4,
 "nbformat_minor": 2
}
