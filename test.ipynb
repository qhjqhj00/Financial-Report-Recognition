{
 "cells": [
  {
   "cell_type": "code",
   "execution_count": null,
   "metadata": {},
   "outputs": [],
   "source": [
    "import pdfplumber\n",
    "\n",
    "with pdfplumber.open(\"Financial Terms.pdf\") as pdf:\n",
    "    first_page = pdf.pages[0]\n",
    "    print(first_page.chars)"
   ]
  },
  {
   "cell_type": "code",
   "execution_count": null,
   "metadata": {},
   "outputs": [],
   "source": [
    "term_report = pdfplumber.open(\"Financial Terms.pdf\").pages\n",
    "fin_term_en_cn = {}\n",
    "for page in term_report:\n",
    "    tmp_page= page.extract_text(x_tolerance=1, y_tolerance=1).split('\\n')\n",
    "    for term in tmp_page:\n",
    "        term = term.split()\n",
    "        if len(term)<2:\n",
    "            print(term)\n",
    "        else:\n",
    "            fin_term_en_cn[term[0]] = ' '.join(term[1:])"
   ]
  },
  {
   "cell_type": "code",
   "execution_count": 30,
   "metadata": {},
   "outputs": [],
   "source": [
    "import json \n",
    "with open('fin_term_cn_2_en.json','w') as f:\n",
    "    json.dump(fin_term_en_cn,f, indent=3)"
   ]
  },
  {
   "cell_type": "code",
   "execution_count": 1,
   "metadata": {},
   "outputs": [],
   "source": [
    "import pdfplumber\n",
    "term_report = pdfplumber.open(\"Q3_BAIDU_2018.pdf\").pages"
   ]
  },
  {
   "cell_type": "code",
   "execution_count": 43,
   "metadata": {},
   "outputs": [],
   "source": [
    "table_settings = {\n",
    "    \"vertical_strategy\": \"text\", \n",
    "    \"horizontal_strategy\": \"lines\",\n",
    "    \"explicit_vertical_lines\": [],\n",
    "    \"explicit_horizontal_lines\": [],\n",
    "    \"snap_tolerance\": 1,\n",
    "    \"join_tolerance\": 1,\n",
    "    \"edge_min_length\": 3,\n",
    "    \"min_words_vertical\": 3,\n",
    "    \"min_words_horizontal\": 1,\n",
    "    \"keep_blank_chars\": False,\n",
    "    \"text_tolerance\": 1,\n",
    "    \"text_x_tolerance\": None,\n",
    "    \"text_y_tolerance\": None,\n",
    "    \"intersection_tolerance\": 3,\n",
    "    \"intersection_x_tolerance\": None,\n",
    "    \"intersection_y_tolerance\": None,\n",
    "}\n",
    "table = term_report[13].extract_table(table_settings)"
   ]
  },
  {
   "cell_type": "code",
   "execution_count": 2,
   "metadata": {},
   "outputs": [
    {
     "data": {
      "text/plain": [
       "[' ',\n",
       " 'Baidu, Inc. ',\n",
       " 'Reconciliations of Non-GAAP Financial Measures to the Nearest Comparable GAAP Measures ',\n",
       " '      Three months ended    ',\n",
       " ' (In RMB millions except for ADS and per ADS  September 30,  June 30,   September 30, ',\n",
       " 'information, unaudited)     2017       2018         2018    ',\n",
       " '             ',\n",
       " 'Operating income - Baidu Core       5,589   6,736      7,015  ',\n",
       " 'Add: Share-based compensation expenses       788   1,033      1,035  ',\n",
       " 'Non-GAAP operating income-Baidu Core       6,377   7,769      8,050  ',\n",
       " '             ',\n",
       " 'Add: Depreciation of fixed assets    868   760      885 ',\n",
       " 'Add: Amortization of intangible assets    329   33      47 ',\n",
       " 'Adjusted EBITDA - Baidu Core    7,574   8,562      8,982 ',\n",
       " '                        ',\n",
       " 'Operating loss - iQIYI  (1,067)   (1,328)      (2,591)  ',\n",
       " 'Add: Share-based compensation expenses       53   84      204  ',\n",
       " 'Non-GAAP operating loss - iQIYI       (1,014)   (1,244)      (2,387)  ',\n",
       " '             ',\n",
       " 'Add: Depreciation of fixed assets    89   74      81 ',\n",
       " 'Add: Amortization of intangible assets    18   45      156 ',\n",
       " 'Adjusted EBITDA - iQIYI    (907)   (1,125)      (2,150)',\n",
       " '             ',\n",
       " 'Operating income - consolidated    4,700   5,422      4,428 ',\n",
       " 'Add: Share-based compensation expenses    841   1,117      1,239 ',\n",
       " 'Non-GAAP operating income - consolidated    5,541   6,539      5,667 ',\n",
       " '             ',\n",
       " 'Add: Depreciation of fixed assets    957   834      966 ',\n",
       " 'Add: Amortization of intangible assets    347   44      156 ',\n",
       " 'Adjusted EBITDA - consolidated    6,845   7,417      6,789 ',\n",
       " '             ',\n",
       " ' ',\n",
       " 'Net income attributable to Baidu Core        8,784   8,158      14,309 ',\n",
       " 'Add: Share-based compensation expenses        788   1,033      1,035 ',\n",
       " 'Add: Loss associated with the dilution of equity method ',\n",
       " 'investees, net of tax        257   174      45 ',\n",
       " 'Add: Disposal loss(gain), net of tax ',\n",
       " '  (4,659)   (462)      (6,697)',\n",
       " 'Add: Impairment of long-term investments, net of tax ',\n",
       " '  165   -      298 ',\n",
       " 'Add: Fair value change of long-term investments, net of tax',\n",
       " '  -   (338)      (633)',\n",
       " 'Non-GAAP net income attributable to Baidu Core        5,335   8,565      8,357 ',\n",
       " '                        ',\n",
       " 'Net loss attributable to iQIYI        (1,052)   (2,097)      (3,140)',\n",
       " 'Add: Share-based compensation expenses    53   84      204 ',\n",
       " 'Add: Loss associated with the dilution of equity method ',\n",
       " 'investees, net of tax    -   -      - ',\n",
       " 'Add: Disposal loss (gain), net of tax    -   -      - ',\n",
       " 'Add: Impairment of long-term investments, net of tax    33   -      - ',\n",
       " 'Add: Fair value change of long-term investments, net of tax   -   -      (3)',\n",
       " 'Non-GAAP net loss attributable to iQIYI    (966)   (2,013)      (2,939)',\n",
       " '             ',\n",
       " 'Net income attributable to Baidu    7,949   6,402      12,396 ',\n",
       " 'Add: Share-based compensation expenses    841   1,081      1,151 ',\n",
       " 'Add: Loss associated with the dilution of equity method ',\n",
       " 'investees, net of tax    257   174      45 ',\n",
       " 'Add: Disposal loss (gain), net of tax    (4,659)   114      (6,569)',\n",
       " 'Add: Impairment of long-term investments, net of tax    165   -      298 ',\n",
       " 'Add: Fair value change of long-term investments, net of tax   -   (338)      (636)',\n",
       " 'Non-GAAP net income attributable to Baidu    4,553   7,433      6,685 ',\n",
       " '   ']"
      ]
     },
     "execution_count": 2,
     "metadata": {},
     "output_type": "execute_result"
    }
   ],
   "source": [
    "term_report[13].extract_text(x_tolerance=1, y_tolerance=1).split('\\n')"
   ]
  },
  {
   "cell_type": "code",
   "execution_count": null,
   "metadata": {},
   "outputs": [],
   "source": []
  }
 ],
 "metadata": {
  "kernelspec": {
   "display_name": "Python 3",
   "language": "python",
   "name": "python3"
  },
  "language_info": {
   "codemirror_mode": {
    "name": "ipython",
    "version": 3
   },
   "file_extension": ".py",
   "mimetype": "text/x-python",
   "name": "python",
   "nbconvert_exporter": "python",
   "pygments_lexer": "ipython3",
   "version": "3.6.7"
  }
 },
 "nbformat": 4,
 "nbformat_minor": 2
}
