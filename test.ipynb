{
 "cells": [
  {
   "cell_type": "code",
   "execution_count": null,
   "metadata": {},
   "outputs": [],
   "source": [
    "import pdfplumber\n",
    "\n",
    "with pdfplumber.open(\"Financial Terms.pdf\") as pdf:\n",
    "    first_page = pdf.pages[0]\n",
    "    print(first_page.chars)"
   ]
  },
  {
   "cell_type": "code",
   "execution_count": 25,
   "metadata": {},
   "outputs": [
    {
     "name": "stdout",
     "output_type": "stream",
     "text": [
      "[]\n",
      "['财务术语中英文对照大全']\n",
      "['目录']\n",
      "[]\n",
      "['一、会计与会计理论']\n",
      "['二、会计循环']\n",
      "['三、现金与应收账款']\n",
      "['四、存货']\n",
      "['五、长期投资']\n",
      "['六、固定资产']\n",
      "['七、无形资产']\n",
      "['八、流动负债']\n",
      "['九、长期负债']\n",
      "['十、业主权益']\n",
      "['十一、财务报表']\n",
      "['十二、财务状况变动表']\n",
      "['十三、财务报表分析']\n",
      "['十四、合并财务报表']\n",
      "['十五、物价变动中的会计计量']\n",
      "[]\n",
      "['一、会计与会计理论']\n",
      "['二、会计循环']\n",
      "[]\n",
      "['三、现金与应收账款']\n",
      "[]\n",
      "['四、存货']\n",
      "[]\n",
      "['五、长期投资']\n",
      "[]\n",
      "['六、固定资产']\n",
      "[]\n",
      "['七、无形资产']\n",
      "[]\n",
      "['八、流动负债']\n",
      "[]\n",
      "['九、长期负债']\n",
      "[]\n",
      "['十、业主权益']\n",
      "[]\n",
      "['十一、财务报表']\n",
      "[]\n",
      "['十二、财务状况变动表']\n",
      "[]\n",
      "['十三、财务报表分析']\n",
      "[]\n",
      "['十四、合并财务报表']\n",
      "[]\n",
      "[]\n",
      "['十五、物价变动中的会计计量']\n",
      "[]\n",
      "[]\n"
     ]
    }
   ],
   "source": [
    "term_report = pdfplumber.open(\"Financial Terms.pdf\").pages\n",
    "fin_term_en_cn = {}\n",
    "for page in term_report:\n",
    "    tmp_page= page.extract_text(x_tolerance=1, y_tolerance=1).split('\\n')\n",
    "    for term in tmp_page:\n",
    "        term = term.split()\n",
    "        if len(term)<2:\n",
    "            print(term)\n",
    "        else:\n",
    "            fin_term_en_cn[term[0]] = ' '.join(term[1:])"
   ]
  },
  {
   "cell_type": "code",
   "execution_count": 30,
   "metadata": {},
   "outputs": [],
   "source": [
    "import json \n",
    "with open('fin_term_cn_2_en.json','w') as f:\n",
    "    json.dump(fin_term_en_cn,f, indent=3)"
   ]
  },
  {
   "cell_type": "code",
   "execution_count": null,
   "metadata": {},
   "outputs": [],
   "source": []
  }
 ],
 "metadata": {
  "kernelspec": {
   "display_name": "Python 3",
   "language": "python",
   "name": "python3"
  },
  "language_info": {
   "codemirror_mode": {
    "name": "ipython",
    "version": 3
   },
   "file_extension": ".py",
   "mimetype": "text/x-python",
   "name": "python",
   "nbconvert_exporter": "python",
   "pygments_lexer": "ipython3",
   "version": "3.6.7"
  }
 },
 "nbformat": 4,
 "nbformat_minor": 2
}
