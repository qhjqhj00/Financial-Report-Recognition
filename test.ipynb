{
 "cells": [
  {
   "cell_type": "code",
   "execution_count": null,
   "metadata": {},
   "outputs": [],
   "source": [
    "import pdfplumber\n",
    "\n",
    "with pdfplumber.open(\"Financial Terms.pdf\") as pdf:\n",
    "    first_page = pdf.pages[0]\n",
    "    print(first_page.chars)"
   ]
  },
  {
   "cell_type": "code",
   "execution_count": null,
   "metadata": {},
   "outputs": [],
   "source": [
    "term_report = pdfplumber.open(\"Financial Terms.pdf\").pages\n",
    "fin_term_en_cn = {}\n",
    "for page in term_report:\n",
    "    tmp_page= page.extract_text(x_tolerance=1, y_tolerance=1).split('\\n')\n",
    "    for term in tmp_page:\n",
    "        term = term.split()\n",
    "        if len(term)<2:\n",
    "            print(term)\n",
    "        else:\n",
    "            fin_term_en_cn[term[0]] = ' '.join(term[1:])"
   ]
  },
  {
   "cell_type": "code",
   "execution_count": 30,
   "metadata": {},
   "outputs": [],
   "source": [
    "import json \n",
    "with open('fin_term_cn_2_en.json','w') as f:\n",
    "    json.dump(fin_term_en_cn,f, indent=3)"
   ]
  },
  {
   "cell_type": "code",
   "execution_count": 1,
   "metadata": {},
   "outputs": [],
   "source": [
    "import pdfplumber\n",
    "term_report = pdfplumber.open(\"Q3_BAIDU_2018.pdf\").pages"
   ]
  },
  {
   "cell_type": "code",
   "execution_count": 43,
   "metadata": {},
   "outputs": [],
   "source": [
    "table_settings = {\n",
    "    \"vertical_strategy\": \"text\", \n",
    "    \"horizontal_strategy\": \"lines\",\n",
    "    \"explicit_vertical_lines\": [],\n",
    "    \"explicit_horizontal_lines\": [],\n",
    "    \"snap_tolerance\": 1,\n",
    "    \"join_tolerance\": 1,\n",
    "    \"edge_min_length\": 3,\n",
    "    \"min_words_vertical\": 3,\n",
    "    \"min_words_horizontal\": 1,\n",
    "    \"keep_blank_chars\": False,\n",
    "    \"text_tolerance\": 1,\n",
    "    \"text_x_tolerance\": None,\n",
    "    \"text_y_tolerance\": None,\n",
    "    \"intersection_tolerance\": 3,\n",
    "    \"intersection_x_tolerance\": None,\n",
    "    \"intersection_y_tolerance\": None,\n",
    "}\n",
    "table = term_report[13].extract_table(table_settings)"
   ]
  },
  {
   "cell_type": "code",
   "execution_count": null,
   "metadata": {},
   "outputs": [],
   "source": []
  },
  {
   "cell_type": "code",
   "execution_count": 7,
   "metadata": {},
   "outputs": [],
   "source": [
    "balance_sheet = term_report[10].extract_text(x_tolerance=1, y_tolerance=1).split('\\n')"
   ]
  },
  {
   "cell_type": "code",
   "execution_count": 10,
   "metadata": {},
   "outputs": [],
   "source": [
    "for i, line in enumerate(balance_sheet):\n",
    "    line = line.split('  ')\n",
    "    line = [element for element in line if len(element)>1]\n",
    "    balance_sheet[i] = line"
   ]
  },
  {
   "cell_type": "code",
   "execution_count": 11,
   "metadata": {},
   "outputs": [
    {
     "data": {
      "text/plain": [
       "[[],\n",
       " ['Baidu, Inc. '],\n",
       " ['Condensed Consolidated Balance Sheets '],\n",
       " ['December 31,', 'September 30,'],\n",
       " ['(In RMB millions except for share information)', ' 2017', '2018'],\n",
       " ['Audited', 'Unaudited'],\n",
       " ['ASSETS'],\n",
       " ['Current assets:'],\n",
       " ['Cash and cash equivalents', ' 11,084', '15,775'],\n",
       " ['Restricted cash', ' 252', '15'],\n",
       " ['Short-term investments', ' 89,381', '88,716'],\n",
       " ['Other invested securities', '18,350'],\n",
       " ['Accounts receivable, net', ' 4,571', '5,455'],\n",
       " ['Loans and interest receivable, net', '23,938'],\n",
       " ['Amounts due from related parties', ' 168', '23,321'],\n",
       " ['Other assets, current', ' 3,425', '6,700'],\n",
       " ['Total current assets', ' 151,169', '139,982'],\n",
       " [],\n",
       " ['Non-current assets:'],\n",
       " ['Fixed assets, net', ' 12,475', '16,197'],\n",
       " ['Intangible assets, net', ' 5,467', '8,732'],\n",
       " ['Goodwill', ' 15,806', '17,051'],\n",
       " ['Long-term investments, net', ' 56,283', '80,589'],\n",
       " ['Loans and interest receivable, net', '3,467'],\n",
       " ['Amounts due from related parties', ' 9', '1,994'],\n",
       " ['Deferred tax assets, net', ' 1,532', '1,049'],\n",
       " ['Other assets, non-current', ' 5,520', '9,742'],\n",
       " ['Total non-current assets', ' 100,559', '135,354'],\n",
       " [],\n",
       " ['Total assets', ' 251,728', '275,336'],\n",
       " [],\n",
       " ['LIABILITIES AND EQUITY'],\n",
       " ['Current liabilities:'],\n",
       " ['Short-term loans', ' 1,244', '1,173'],\n",
       " ['Amounts due to the third-party investors', '38,486'],\n",
       " ['Accounts payable and accrued liabilities', ' 27,523', '33,743'],\n",
       " ['Customer advances and deposits', ' 6,785', '7,599'],\n",
       " ['Deferred revenue', ' 788', '1,840'],\n",
       " ['Deferred income', ' 568', '519'],\n",
       " ['Long-term loans, current portion', ' 10', '10'],\n",
       " ['Notes payable, current portion', '6,500', '6,856'],\n",
       " ['Amounts due to related parties', ' 153', '873'],\n",
       " ['Total current liabilities', ' 82,057', '52,613'],\n",
       " [],\n",
       " ['Non-current liabilities:'],\n",
       " ['Deferred income', ' 73', '50'],\n",
       " ['Deferred revenue', '1,431'],\n",
       " ['Amounts due to related parties', '3,008'],\n",
       " ['Long-term loans', ' 6,701', '7,069'],\n",
       " ['Notes payable', ' 29,111', ' 34,142'],\n",
       " ['Deferred tax liabilities', ' 3,375', '3,989'],\n",
       " ['Other non-current liabilities', ' 39', '190'],\n",
       " ['Total non-current liabilities', ' 39,299', '49,879'],\n",
       " [],\n",
       " ['Total liabilities', ' 121,356', '102,492'],\n",
       " [],\n",
       " []]"
      ]
     },
     "execution_count": 11,
     "metadata": {},
     "output_type": "execute_result"
    }
   ],
   "source": [
    "balance_sheet"
   ]
  },
  {
   "cell_type": "code",
   "execution_count": null,
   "metadata": {},
   "outputs": [],
   "source": []
  }
 ],
 "metadata": {
  "kernelspec": {
   "display_name": "Python 3",
   "language": "python",
   "name": "python3"
  },
  "language_info": {
   "codemirror_mode": {
    "name": "ipython",
    "version": 3
   },
   "file_extension": ".py",
   "mimetype": "text/x-python",
   "name": "python",
   "nbconvert_exporter": "python",
   "pygments_lexer": "ipython3",
   "version": "3.6.7"
  }
 },
 "nbformat": 4,
 "nbformat_minor": 2
}
